{
 "cells": [
  {
   "cell_type": "code",
   "execution_count": 1,
   "metadata": {
    "colab": {},
    "colab_type": "code",
    "id": "SxLv1M76Nljd"
   },
   "outputs": [],
   "source": [
    "from PIL import Image\n",
    "from pytesseract import image_to_string\n",
    "import pytesseract\n",
    "import numpy as np\n",
    "import pandas as pd\n",
    "import PIL\n",
    "from PIL import Image, ImageFilter, ImageEnhance\n",
    "import cv2\n",
    "import colorsys"
   ]
  },
  {
   "cell_type": "code",
   "execution_count": 29,
   "metadata": {
    "colab": {},
    "colab_type": "code",
    "id": "oDK_CvkuNljt"
   },
   "outputs": [],
   "source": [
    " pytesseract.pytesseract.tesseract_cmd = r\"C:\\Users\\ankur\\AppData\\Local\\Tesseract-OCR\\tesseract.exe\""
   ]
  },
  {
   "cell_type": "code",
   "execution_count": 30,
   "metadata": {
    "colab": {},
    "colab_type": "code",
    "id": "L1WT4NHaNlkB"
   },
   "outputs": [],
   "source": [
    "import numpy as np\n",
    "#initial coordinates of name, guardian's relation and name,house number,age,gender.\n",
    "#Pls edit and change by hit and try like we did in first page extraction\n",
    "def image_text(x,\n",
    "               crop_rectangle_hn = (400, 470, 825, 540),crop_rectangle_age = (310, 540, 455, 585),\n",
    "               crop_rectangle_gen = (560, 540, 585, 585),crop_rectangle_g_relation = (220, 400, 247, 440)):\n",
    "    im = Image.open(x)\n",
    "    im = im.resize((3000, 3882), PIL.Image.LANCZOS)\n",
    "    im = cv2.adaptiveThreshold(np.array(im,dtype=np.uint8), 255, cv2.ADAPTIVE_THRESH_GAUSSIAN_C, cv2.THRESH_BINARY, 31, 9)\n",
    "    im = Image.fromarray(im)\n",
    "    countt = 1   \n",
    "    for i in range(0,10):\n",
    "# Split file name like we did in first page extraction. It should include full file name.\n",
    "# For example 'AC0020001-03' and not just 'AC0020001'\n",
    "        for j in range(0,3):\n",
    "#             s = x.split('/')\n",
    "#             s = s[1].split(\"_\")[0]\n",
    "            file_name.append(x+str(countt))\n",
    "            \n",
    "            cropped_im_g_relation = im.crop(crop_rectangle_g_relation)\n",
    "            c_gr = image_to_string(cropped_im_g_relation,config='-c tessedit_char_whitelist=FH --psm 6')\n",
    "            grel.append(c_gr)\n",
    "\n",
    "            cropped_im_hn = im.crop(crop_rectangle_hn)\n",
    "            c_hn = image_to_string(cropped_im_hn,config='--psm 6')\n",
    "            hno.append(c_hn)\n",
    "\n",
    "            cropped_im_age = im.crop(crop_rectangle_age)\n",
    "            c_age = image_to_string(cropped_im_age,config='-c tessedit_char_whitelist=0123456789 --psm 6')\n",
    "            age.append(c_age)\n",
    "\n",
    "            cropped_im_gen = im.crop(crop_rectangle_gen)\n",
    "            c_gen = image_to_string(cropped_im_gen,config='-c tessedit_char_whitelist=MF --psm 6')\n",
    "            gen.append(c_gen)\n",
    "            \n",
    "            countt+=1\n",
    "\n",
    "# Find distance between same category horizontally.\n",
    "# For example find distance between starting coordinate of first box NAME and starting coordinate of secnd box NAME on right\n",
    "# Make sure we find distance from starting point. Distance should be same for 2nd and 3rd box horizontally as well as for every 4 other value, such as age, sex etc\n",
    "            crop_rectangle_hn = tuple(np.add(crop_rectangle_hn, (863.5, 0,863.5,0)))\n",
    "            crop_rectangle_age = tuple(np.add(crop_rectangle_age, (863.5, 0,863.5,0)))\n",
    "            crop_rectangle_gen = tuple(np.add(crop_rectangle_gen, (863.5, 0,863.5,0)))\n",
    "            crop_rectangle_g_relation = tuple(np.add(crop_rectangle_g_relation, (863.5, 0,863.5,0)))\n",
    "# Find ditance between third and first box. Which should be 3 times above found distance\n",
    "\n",
    "        crop_rectangle_hn = tuple(np.subtract(crop_rectangle_hn, (2590.5, 0,2590.5,0)))\n",
    "        crop_rectangle_age = tuple(np.subtract(crop_rectangle_age, (2590.5, 0,2590.5,0)))\n",
    "        crop_rectangle_gen = tuple(np.subtract(crop_rectangle_gen, (2590.5, 0,2590.5,0)))\n",
    "        crop_rectangle_g_relation = tuple(np.subtract(crop_rectangle_g_relation, (2590.5, 0,2590.5,0)))\n",
    "# Find distance between same category vertically.\n",
    "# For example find distance between starting coordinate of first box NAME and starting coordinate of secnd box NAME down\n",
    "# Distance should be same for all 10 boxes vertically as well as for every 4 other value, such as age, sex etc\n",
    "\n",
    "        crop_rectangle_hn = tuple(np.add(crop_rectangle_hn, (0, 337,0,337)))\n",
    "        crop_rectangle_age = tuple(np.add(crop_rectangle_age, (0, 337,0,337)))\n",
    "        crop_rectangle_gen = tuple(np.add(crop_rectangle_gen, (0, 337,0,337)))\n",
    "        crop_rectangle_g_relation = tuple(np.add(crop_rectangle_g_relation, (0, 337,0,337)))\n",
    "\n",
    "    return hno,age,gen,file_name,grel\n",
    "\n"
   ]
  },
  {
   "cell_type": "markdown",
   "metadata": {
    "colab_type": "text",
    "id": "FlU3ncAVRknn"
   },
   "source": [
    "** Removing page 1 and 2 **"
   ]
  },
  {
   "cell_type": "code",
   "execution_count": 31,
   "metadata": {
    "colab": {},
    "colab_type": "code",
    "id": "klf-0ED1Nlkf"
   },
   "outputs": [],
   "source": [
    "import glob\n",
    "#Getting all page 1\n",
    "page_1 = glob.glob(\"C:/Users/ankur/New folder/*01.jpg\")\n",
    "#Getting all page 2\n",
    "page_2 = glob.glob('C:/Users/ankur/New folder/*02.jpg')\n",
    "#Getting all pages\n",
    "page_all = glob.glob('C:/Users/ankur/New folder/*.jpg')"
   ]
  },
  {
   "cell_type": "code",
   "execution_count": 32,
   "metadata": {
    "colab": {},
    "colab_type": "code",
    "id": "9373Z6SPNlko"
   },
   "outputs": [],
   "source": [
    "#Removing page 1 from all\n",
    "temp = [i for i in page_all if i not in page_1]\n",
    "#Removing page 2 from all\n",
    "page_fin = [i for i in temp if i not in page_2]"
   ]
  },
  {
   "cell_type": "code",
   "execution_count": 33,
   "metadata": {
    "colab": {},
    "colab_type": "code",
    "id": "aywOok1uJbUu"
   },
   "outputs": [],
   "source": [
    "# with open('drive/My Drive/app/Misc/aap/get_pdfs/images/one.txt', 'w') as f:\n",
    "#     for item in page_fin:\n",
    "#         f.write(\"%s\\n\" % item)\n",
    "\n",
    "# from numpy import loadtxt\n",
    "# one = loadtxt(\"drive/My Drive/app/Misc/aap/get_pdfs/images/one.txt\", delimiter=\"\\n\", unpack=False,dtype = 'str')"
   ]
  },
  {
   "cell_type": "code",
   "execution_count": 34,
   "metadata": {
    "colab": {},
    "colab_type": "code",
    "id": "zSgC01sKNlky"
   },
   "outputs": [],
   "source": [
    "def split(a, n):\n",
    "    k, m = divmod(len(a), n)\n",
    "    return (a[i * k + min(i, m):(i + 1) * k + min(i + 1, m)] for i in range(n))"
   ]
  },
  {
   "cell_type": "markdown",
   "metadata": {
    "colab_type": "text",
    "id": "YNpXo-GzRkn2"
   },
   "source": [
    "** Splitting list to parts **"
   ]
  },
  {
   "cell_type": "code",
   "execution_count": 35,
   "metadata": {
    "colab": {},
    "colab_type": "code",
    "id": "gIn6ZX5mNllA",
    "outputId": "01b89f3a-f79d-4305-fb6d-165fa265f866"
   },
   "outputs": [],
   "source": [
    "#Splitting files into 500 parts to increase frequency of saving. Increase the value to save more frequently\n",
    "#Do not change value after running code once. If want to change value after running. Delete all saved files or do maths\n",
    "page_fin_split =  list(split(page_fin, 500))"
   ]
  },
  {
   "cell_type": "markdown",
   "metadata": {
    "colab_type": "text",
    "id": "79JD0VkPRkoA"
   },
   "source": [
    "**WITH TESSERACT 3.05**"
   ]
  },
  {
   "cell_type": "code",
   "execution_count": 36,
   "metadata": {
    "colab": {},
    "colab_type": "code",
    "id": "3NR71tlKNllK",
    "outputId": "1602555e-6041-4048-8638-73a6f4dd2bd4"
   },
   "outputs": [
    {
     "ename": "KeyboardInterrupt",
     "evalue": "",
     "output_type": "error",
     "traceback": [
      "\u001b[1;31m---------------------------------------------------------------------------\u001b[0m",
      "\u001b[1;31mKeyboardInterrupt\u001b[0m                         Traceback (most recent call last)",
      "\u001b[1;32m<ipython-input-36-2958ed03c297>\u001b[0m in \u001b[0;36m<module>\u001b[1;34m\u001b[0m\n\u001b[0;32m     12\u001b[0m     \u001b[0mfile_name\u001b[0m \u001b[1;33m=\u001b[0m \u001b[1;33m[\u001b[0m\u001b[1;33m]\u001b[0m\u001b[1;33m\u001b[0m\u001b[1;33m\u001b[0m\u001b[0m\n\u001b[0;32m     13\u001b[0m     \u001b[1;32mfor\u001b[0m \u001b[0mj\u001b[0m \u001b[1;32min\u001b[0m \u001b[0mi\u001b[0m\u001b[1;33m:\u001b[0m\u001b[1;33m\u001b[0m\u001b[1;33m\u001b[0m\u001b[0m\n\u001b[1;32m---> 14\u001b[1;33m         \u001b[0mh\u001b[0m\u001b[1;33m,\u001b[0m\u001b[0ma\u001b[0m\u001b[1;33m,\u001b[0m\u001b[0mg\u001b[0m\u001b[1;33m,\u001b[0m\u001b[0mfn\u001b[0m\u001b[1;33m,\u001b[0m\u001b[0mgr\u001b[0m \u001b[1;33m=\u001b[0m \u001b[0mimage_text\u001b[0m\u001b[1;33m(\u001b[0m\u001b[0mj\u001b[0m\u001b[1;33m)\u001b[0m\u001b[1;33m\u001b[0m\u001b[1;33m\u001b[0m\u001b[0m\n\u001b[0m\u001b[0;32m     15\u001b[0m         \u001b[0mprint\u001b[0m\u001b[1;33m(\u001b[0m\u001b[1;34m\"page_\"\u001b[0m\u001b[1;33m+\u001b[0m\u001b[0mstr\u001b[0m\u001b[1;33m(\u001b[0m\u001b[0mcount_sem\u001b[0m\u001b[1;33m)\u001b[0m\u001b[1;33m)\u001b[0m\u001b[1;33m\u001b[0m\u001b[1;33m\u001b[0m\u001b[0m\n\u001b[0;32m     16\u001b[0m         \u001b[0mcount_sem\u001b[0m\u001b[1;33m+=\u001b[0m\u001b[1;36m1\u001b[0m\u001b[1;33m\u001b[0m\u001b[1;33m\u001b[0m\u001b[0m\n",
      "\u001b[1;32m<ipython-input-30-87a99d3c711c>\u001b[0m in \u001b[0;36mimage_text\u001b[1;34m(x, crop_rectangle_hn, crop_rectangle_age, crop_rectangle_gen, crop_rectangle_g_relation)\u001b[0m\n\u001b[0;32m     27\u001b[0m \u001b[1;33m\u001b[0m\u001b[0m\n\u001b[0;32m     28\u001b[0m             \u001b[0mcropped_im_age\u001b[0m \u001b[1;33m=\u001b[0m \u001b[0mim\u001b[0m\u001b[1;33m.\u001b[0m\u001b[0mcrop\u001b[0m\u001b[1;33m(\u001b[0m\u001b[0mcrop_rectangle_age\u001b[0m\u001b[1;33m)\u001b[0m\u001b[1;33m\u001b[0m\u001b[1;33m\u001b[0m\u001b[0m\n\u001b[1;32m---> 29\u001b[1;33m             \u001b[0mc_age\u001b[0m \u001b[1;33m=\u001b[0m \u001b[0mimage_to_string\u001b[0m\u001b[1;33m(\u001b[0m\u001b[0mcropped_im_age\u001b[0m\u001b[1;33m,\u001b[0m\u001b[0mconfig\u001b[0m\u001b[1;33m=\u001b[0m\u001b[1;34m'-c tessedit_char_whitelist=0123456789 --psm 6'\u001b[0m\u001b[1;33m)\u001b[0m\u001b[1;33m\u001b[0m\u001b[1;33m\u001b[0m\u001b[0m\n\u001b[0m\u001b[0;32m     30\u001b[0m             \u001b[0mage\u001b[0m\u001b[1;33m.\u001b[0m\u001b[0mappend\u001b[0m\u001b[1;33m(\u001b[0m\u001b[0mc_age\u001b[0m\u001b[1;33m)\u001b[0m\u001b[1;33m\u001b[0m\u001b[1;33m\u001b[0m\u001b[0m\n\u001b[0;32m     31\u001b[0m \u001b[1;33m\u001b[0m\u001b[0m\n",
      "\u001b[1;32mE:\\Anaconda3\\lib\\site-packages\\pytesseract\\pytesseract.py\u001b[0m in \u001b[0;36mimage_to_string\u001b[1;34m(image, lang, config, nice, output_type)\u001b[0m\n\u001b[0;32m    307\u001b[0m         \u001b[0mOutput\u001b[0m\u001b[1;33m.\u001b[0m\u001b[0mDICT\u001b[0m\u001b[1;33m:\u001b[0m \u001b[1;32mlambda\u001b[0m\u001b[1;33m:\u001b[0m \u001b[1;33m{\u001b[0m\u001b[1;34m'text'\u001b[0m\u001b[1;33m:\u001b[0m \u001b[0mrun_and_get_output\u001b[0m\u001b[1;33m(\u001b[0m\u001b[1;33m*\u001b[0m\u001b[0margs\u001b[0m\u001b[1;33m)\u001b[0m\u001b[1;33m}\u001b[0m\u001b[1;33m,\u001b[0m\u001b[1;33m\u001b[0m\u001b[1;33m\u001b[0m\u001b[0m\n\u001b[0;32m    308\u001b[0m         \u001b[0mOutput\u001b[0m\u001b[1;33m.\u001b[0m\u001b[0mSTRING\u001b[0m\u001b[1;33m:\u001b[0m \u001b[1;32mlambda\u001b[0m\u001b[1;33m:\u001b[0m \u001b[0mrun_and_get_output\u001b[0m\u001b[1;33m(\u001b[0m\u001b[1;33m*\u001b[0m\u001b[0margs\u001b[0m\u001b[1;33m)\u001b[0m\u001b[1;33m,\u001b[0m\u001b[1;33m\u001b[0m\u001b[1;33m\u001b[0m\u001b[0m\n\u001b[1;32m--> 309\u001b[1;33m     }[output_type]()\n\u001b[0m\u001b[0;32m    310\u001b[0m \u001b[1;33m\u001b[0m\u001b[0m\n\u001b[0;32m    311\u001b[0m \u001b[1;33m\u001b[0m\u001b[0m\n",
      "\u001b[1;32mE:\\Anaconda3\\lib\\site-packages\\pytesseract\\pytesseract.py\u001b[0m in \u001b[0;36m<lambda>\u001b[1;34m()\u001b[0m\n\u001b[0;32m    306\u001b[0m         \u001b[0mOutput\u001b[0m\u001b[1;33m.\u001b[0m\u001b[0mBYTES\u001b[0m\u001b[1;33m:\u001b[0m \u001b[1;32mlambda\u001b[0m\u001b[1;33m:\u001b[0m \u001b[0mrun_and_get_output\u001b[0m\u001b[1;33m(\u001b[0m\u001b[1;33m*\u001b[0m\u001b[1;33m(\u001b[0m\u001b[0margs\u001b[0m \u001b[1;33m+\u001b[0m \u001b[1;33m[\u001b[0m\u001b[1;32mTrue\u001b[0m\u001b[1;33m]\u001b[0m\u001b[1;33m)\u001b[0m\u001b[1;33m)\u001b[0m\u001b[1;33m,\u001b[0m\u001b[1;33m\u001b[0m\u001b[1;33m\u001b[0m\u001b[0m\n\u001b[0;32m    307\u001b[0m         \u001b[0mOutput\u001b[0m\u001b[1;33m.\u001b[0m\u001b[0mDICT\u001b[0m\u001b[1;33m:\u001b[0m \u001b[1;32mlambda\u001b[0m\u001b[1;33m:\u001b[0m \u001b[1;33m{\u001b[0m\u001b[1;34m'text'\u001b[0m\u001b[1;33m:\u001b[0m \u001b[0mrun_and_get_output\u001b[0m\u001b[1;33m(\u001b[0m\u001b[1;33m*\u001b[0m\u001b[0margs\u001b[0m\u001b[1;33m)\u001b[0m\u001b[1;33m}\u001b[0m\u001b[1;33m,\u001b[0m\u001b[1;33m\u001b[0m\u001b[1;33m\u001b[0m\u001b[0m\n\u001b[1;32m--> 308\u001b[1;33m         \u001b[0mOutput\u001b[0m\u001b[1;33m.\u001b[0m\u001b[0mSTRING\u001b[0m\u001b[1;33m:\u001b[0m \u001b[1;32mlambda\u001b[0m\u001b[1;33m:\u001b[0m \u001b[0mrun_and_get_output\u001b[0m\u001b[1;33m(\u001b[0m\u001b[1;33m*\u001b[0m\u001b[0margs\u001b[0m\u001b[1;33m)\u001b[0m\u001b[1;33m,\u001b[0m\u001b[1;33m\u001b[0m\u001b[1;33m\u001b[0m\u001b[0m\n\u001b[0m\u001b[0;32m    309\u001b[0m     }[output_type]()\n\u001b[0;32m    310\u001b[0m \u001b[1;33m\u001b[0m\u001b[0m\n",
      "\u001b[1;32mE:\\Anaconda3\\lib\\site-packages\\pytesseract\\pytesseract.py\u001b[0m in \u001b[0;36mrun_and_get_output\u001b[1;34m(image, extension, lang, config, nice, return_bytes)\u001b[0m\n\u001b[0;32m    216\u001b[0m         }\n\u001b[0;32m    217\u001b[0m \u001b[1;33m\u001b[0m\u001b[0m\n\u001b[1;32m--> 218\u001b[1;33m         \u001b[0mrun_tesseract\u001b[0m\u001b[1;33m(\u001b[0m\u001b[1;33m**\u001b[0m\u001b[0mkwargs\u001b[0m\u001b[1;33m)\u001b[0m\u001b[1;33m\u001b[0m\u001b[1;33m\u001b[0m\u001b[0m\n\u001b[0m\u001b[0;32m    219\u001b[0m         \u001b[0mfilename\u001b[0m \u001b[1;33m=\u001b[0m \u001b[0mkwargs\u001b[0m\u001b[1;33m[\u001b[0m\u001b[1;34m'output_filename_base'\u001b[0m\u001b[1;33m]\u001b[0m \u001b[1;33m+\u001b[0m \u001b[0mos\u001b[0m\u001b[1;33m.\u001b[0m\u001b[0mextsep\u001b[0m \u001b[1;33m+\u001b[0m \u001b[0mextension\u001b[0m\u001b[1;33m\u001b[0m\u001b[1;33m\u001b[0m\u001b[0m\n\u001b[0;32m    220\u001b[0m         \u001b[1;32mwith\u001b[0m \u001b[0mopen\u001b[0m\u001b[1;33m(\u001b[0m\u001b[0mfilename\u001b[0m\u001b[1;33m,\u001b[0m \u001b[1;34m'rb'\u001b[0m\u001b[1;33m)\u001b[0m \u001b[1;32mas\u001b[0m \u001b[0moutput_file\u001b[0m\u001b[1;33m:\u001b[0m\u001b[1;33m\u001b[0m\u001b[1;33m\u001b[0m\u001b[0m\n",
      "\u001b[1;32mE:\\Anaconda3\\lib\\site-packages\\pytesseract\\pytesseract.py\u001b[0m in \u001b[0;36mrun_tesseract\u001b[1;34m(input_filename, output_filename_base, extension, lang, config, nice)\u001b[0m\n\u001b[0;32m    186\u001b[0m         \u001b[1;32mraise\u001b[0m \u001b[0mTesseractNotFoundError\u001b[0m\u001b[1;33m(\u001b[0m\u001b[1;33m)\u001b[0m\u001b[1;33m\u001b[0m\u001b[1;33m\u001b[0m\u001b[0m\n\u001b[0;32m    187\u001b[0m \u001b[1;33m\u001b[0m\u001b[0m\n\u001b[1;32m--> 188\u001b[1;33m     \u001b[0mstatus_code\u001b[0m\u001b[1;33m,\u001b[0m \u001b[0merror_string\u001b[0m \u001b[1;33m=\u001b[0m \u001b[0mproc\u001b[0m\u001b[1;33m.\u001b[0m\u001b[0mwait\u001b[0m\u001b[1;33m(\u001b[0m\u001b[1;33m)\u001b[0m\u001b[1;33m,\u001b[0m \u001b[0mproc\u001b[0m\u001b[1;33m.\u001b[0m\u001b[0mstderr\u001b[0m\u001b[1;33m.\u001b[0m\u001b[0mread\u001b[0m\u001b[1;33m(\u001b[0m\u001b[1;33m)\u001b[0m\u001b[1;33m\u001b[0m\u001b[1;33m\u001b[0m\u001b[0m\n\u001b[0m\u001b[0;32m    189\u001b[0m     \u001b[0mproc\u001b[0m\u001b[1;33m.\u001b[0m\u001b[0mstdin\u001b[0m\u001b[1;33m.\u001b[0m\u001b[0mclose\u001b[0m\u001b[1;33m(\u001b[0m\u001b[1;33m)\u001b[0m\u001b[1;33m\u001b[0m\u001b[1;33m\u001b[0m\u001b[0m\n\u001b[0;32m    190\u001b[0m     \u001b[0mproc\u001b[0m\u001b[1;33m.\u001b[0m\u001b[0mstdout\u001b[0m\u001b[1;33m.\u001b[0m\u001b[0mclose\u001b[0m\u001b[1;33m(\u001b[0m\u001b[1;33m)\u001b[0m\u001b[1;33m\u001b[0m\u001b[1;33m\u001b[0m\u001b[0m\n",
      "\u001b[1;32mE:\\Anaconda3\\lib\\subprocess.py\u001b[0m in \u001b[0;36mwait\u001b[1;34m(self, timeout)\u001b[0m\n\u001b[0;32m    982\u001b[0m             \u001b[0mendtime\u001b[0m \u001b[1;33m=\u001b[0m \u001b[0m_time\u001b[0m\u001b[1;33m(\u001b[0m\u001b[1;33m)\u001b[0m \u001b[1;33m+\u001b[0m \u001b[0mtimeout\u001b[0m\u001b[1;33m\u001b[0m\u001b[1;33m\u001b[0m\u001b[0m\n\u001b[0;32m    983\u001b[0m         \u001b[1;32mtry\u001b[0m\u001b[1;33m:\u001b[0m\u001b[1;33m\u001b[0m\u001b[1;33m\u001b[0m\u001b[0m\n\u001b[1;32m--> 984\u001b[1;33m             \u001b[1;32mreturn\u001b[0m \u001b[0mself\u001b[0m\u001b[1;33m.\u001b[0m\u001b[0m_wait\u001b[0m\u001b[1;33m(\u001b[0m\u001b[0mtimeout\u001b[0m\u001b[1;33m=\u001b[0m\u001b[0mtimeout\u001b[0m\u001b[1;33m)\u001b[0m\u001b[1;33m\u001b[0m\u001b[1;33m\u001b[0m\u001b[0m\n\u001b[0m\u001b[0;32m    985\u001b[0m         \u001b[1;32mexcept\u001b[0m \u001b[0mKeyboardInterrupt\u001b[0m\u001b[1;33m:\u001b[0m\u001b[1;33m\u001b[0m\u001b[1;33m\u001b[0m\u001b[0m\n\u001b[0;32m    986\u001b[0m             \u001b[1;31m# https://bugs.python.org/issue25942\u001b[0m\u001b[1;33m\u001b[0m\u001b[1;33m\u001b[0m\u001b[1;33m\u001b[0m\u001b[0m\n",
      "\u001b[1;32mE:\\Anaconda3\\lib\\subprocess.py\u001b[0m in \u001b[0;36m_wait\u001b[1;34m(self, timeout)\u001b[0m\n\u001b[0;32m   1222\u001b[0m                 \u001b[1;31m# API note: Returns immediately if timeout_millis == 0.\u001b[0m\u001b[1;33m\u001b[0m\u001b[1;33m\u001b[0m\u001b[1;33m\u001b[0m\u001b[0m\n\u001b[0;32m   1223\u001b[0m                 result = _winapi.WaitForSingleObject(self._handle,\n\u001b[1;32m-> 1224\u001b[1;33m                                                      timeout_millis)\n\u001b[0m\u001b[0;32m   1225\u001b[0m                 \u001b[1;32mif\u001b[0m \u001b[0mresult\u001b[0m \u001b[1;33m==\u001b[0m \u001b[0m_winapi\u001b[0m\u001b[1;33m.\u001b[0m\u001b[0mWAIT_TIMEOUT\u001b[0m\u001b[1;33m:\u001b[0m\u001b[1;33m\u001b[0m\u001b[1;33m\u001b[0m\u001b[0m\n\u001b[0;32m   1226\u001b[0m                     \u001b[1;32mraise\u001b[0m \u001b[0mTimeoutExpired\u001b[0m\u001b[1;33m(\u001b[0m\u001b[0mself\u001b[0m\u001b[1;33m.\u001b[0m\u001b[0margs\u001b[0m\u001b[1;33m,\u001b[0m \u001b[0mtimeout\u001b[0m\u001b[1;33m)\u001b[0m\u001b[1;33m\u001b[0m\u001b[1;33m\u001b[0m\u001b[0m\n",
      "\u001b[1;31mKeyboardInterrupt\u001b[0m: "
     ]
    }
   ],
   "source": [
    "# Count value is the starting value for code to work. If the last file saved before stopping code was '10', count value for running code again should be '11'\n",
    "count = 467\n",
    "count_sem =467\n",
    "for i in page_fin_split[count-1:]:\n",
    "    name = []\n",
    "    father = []\n",
    "    hno = []\n",
    "    age = []\n",
    "    gen = []\n",
    "    grel = []\n",
    "#     code = []\n",
    "    file_name = []\n",
    "    for j in i:\n",
    "        h,a,g,fn,gr = image_text(j)\n",
    "        print(\"page_\"+str(count_sem))\n",
    "        count_sem+=1\n",
    "    \n",
    "    df = pd.DataFrame(np.column_stack([gr, h,a,g,fn]), \n",
    "                               columns=['g_relation', 'hno','age','gen',\"file_name\"])\n",
    "    df.to_csv('image'+str(count)+\".csv\",index = False)\n",
    "    print(count)\n",
    "    count+=1"
   ]
  },
  {
   "cell_type": "markdown",
   "metadata": {
    "colab_type": "text",
    "id": "srtQ7vaERkoJ"
   },
   "source": [
    "**WITH TESSERACT 4.0**"
   ]
  },
  {
   "cell_type": "code",
   "execution_count": 41,
   "metadata": {
    "colab": {},
    "colab_type": "code",
    "id": "_GqgnuQ0Nlmb"
   },
   "outputs": [],
   "source": [
    "import numpy as np\n",
    "#initial coordinates of name, guardian's relation and name,house number,age,gender.\n",
    "#Pls edit and change by hit and try like we did in first page extraction\n",
    "def image_text_name(x, crop_rectangle_hn = (400, 470, 825, 540),crop_rectangle_nm = (340, 320, 820, 410),crop_rectangle_fn = (410, 400, 825, 480)):\n",
    "    im = Image.open(x)\n",
    "    im = im.resize((3000, 3882), PIL.Image.LANCZOS)\n",
    "    im = cv2.adaptiveThreshold(np.array(im,dtype=np.uint8), 255, cv2.ADAPTIVE_THRESH_GAUSSIAN_C, cv2.THRESH_BINARY, 31, 9)\n",
    "    im = Image.fromarray(im)\n",
    "    countt = 1\n",
    "    for i in range(0,10):\n",
    "# Split file name like we did in first page extraction. It should include full file name.\n",
    "# For example 'AC0020001-03' and not just 'AC0020001'\n",
    "        for j in range(0,3):\n",
    "#             s = x.split('/')\n",
    "#             s = s[1].split(\"_\")[0]\n",
    "            file_name.append(x+str(countt))\n",
    "    \n",
    "            cropped_im_nm = im.crop(crop_rectangle_hn)\n",
    "            c_hn = image_to_string(cropped_im_nm,config='-c tessedit_char_whitelist=abcdefghijklmnopqrstuvwxyzQWERTYUIOPASDFGHJKLZXCVBNM --psm 6')\n",
    "            hno.append(c_hn)\n",
    "\n",
    "            cropped_im_nm = im.crop(crop_rectangle_nm)\n",
    "            c_nm = image_to_string(cropped_im_nm,config='-c tessedit_char_whitelist=abcdefghijklmnopqrstuvwxyzQWERTYUIOPASDFGHJKLZXCVBNM --psm 6')\n",
    "            name.append(c_nm)\n",
    "            \n",
    "            cropped_im_fn = im.crop(crop_rectangle_fn)\n",
    "            c_fn = image_to_string(cropped_im_fn,config='-c tessedit_char_whitelist=abcdefghijklmnopqrstuvwxyzQWERTYUIOPASDFGHJKLZXCVBNM --psm 6')\n",
    "            father.append(c_fn)\n",
    "            \n",
    "            countt+=1\n",
    "\n",
    "\n",
    "# Find distance between same category horizontally.\n",
    "# For example find distance between starting coordinate of first box NAME and starting coordinate of secnd box NAME on right\n",
    "# Make sure we find distance from starting point. Distance should be same for 2nd and 3rd box horizontally as well as for every 4 other value, such as age, sex etc\n",
    "            crop_rectangle_nm = tuple(np.add(crop_rectangle_nm, (863.5, 0,863.5,0)))\n",
    "            crop_rectangle_fn =  tuple(np.add(crop_rectangle_fn, (863.5, 0,863.5,0)))\n",
    "            crop_rectangle_hn = tuple(np.add(crop_rectangle_hn, (863.5, 0,863.5,0)))\n",
    "\n",
    "# Find ditance between third and first box. Which should be 3 times above found distance\n",
    " \n",
    "        crop_rectangle_hn = tuple(np.subtract(crop_rectangle_hn, (2590.5, 0,2590.5,0)))\n",
    "        crop_rectangle_nm = tuple(np.subtract(crop_rectangle_nm, (2590.5, 0,2590.5,0)))\n",
    "        crop_rectangle_fn =  tuple(np.subtract(crop_rectangle_fn, (2590.5, 0,2590.5,0)))\n",
    "\n",
    "# Find distance between same category vertically.\n",
    "# For example find distance between starting coordinate of first box NAME and starting coordinate of secnd box NAME down\n",
    "# Distance should be same for all 10 boxes vertically as well as for every 4 other value, such as age, sex etc\n",
    "        crop_rectangle_nm = tuple(np.add(crop_rectangle_nm, (0, 337,0,337)))\n",
    "        crop_rectangle_fn =  tuple(np.add(crop_rectangle_fn, (0, 337,0,337)))\n",
    "        crop_rectangle_hn = tuple(np.add(crop_rectangle_hn, (0, 337,0,337)))\n",
    "    return name,father,file_name,hno\n",
    "\n"
   ]
  },
  {
   "cell_type": "code",
   "execution_count": null,
   "metadata": {
    "colab": {},
    "colab_type": "code",
    "id": "PMfOXNN-RkoQ",
    "outputId": "edf0ce1c-1083-48a1-ca2a-aa79ddc8d256"
   },
   "outputs": [
    {
     "name": "stdout",
     "output_type": "stream",
     "text": [
      "page_1\n",
      "page_2\n",
      "1\n",
      "page_3\n",
      "page_4\n",
      "2\n",
      "page_5\n",
      "page_6\n",
      "3\n",
      "page_7\n"
     ]
    }
   ],
   "source": [
    "# Count value is the starting value for code to work. If the last file saved before stopping code was '10', count value for running code again should be '11'\n",
    "count = 1\n",
    "count_sem = 1\n",
    "for i in page_fin_split[count-1:]:\n",
    "    name = []\n",
    "    father = []\n",
    "    hno = []\n",
    "    age = []\n",
    "    gen = []\n",
    "    grel = []\n",
    "#     code = []\n",
    "    file_name = []\n",
    "    for j in i:\n",
    "        n,f,fn,h = image_text_name(j)\n",
    "\n",
    "        print(\"page_\"+str(count_sem))\n",
    "        count_sem+=1\n",
    "    \n",
    "    df = pd.DataFrame(np.column_stack([n, f,fn,h]), \n",
    "                               columns=['name', 'guardian','file_name','hno'])\n",
    "    #Put it in different folder\n",
    "    df.to_csv('image1'+str(count)+\".csv\",index = False)\n",
    "    print(count)\n",
    "    count+=1"
   ]
  },
  {
   "cell_type": "code",
   "execution_count": null,
   "metadata": {
    "colab": {},
    "colab_type": "code",
    "id": "QDQksAOVRkoX"
   },
   "outputs": [],
   "source": []
  },
  {
   "cell_type": "code",
   "execution_count": null,
   "metadata": {},
   "outputs": [],
   "source": []
  }
 ],
 "metadata": {
  "accelerator": "GPU",
  "colab": {
   "name": "3 page.ipynb",
   "provenance": [],
   "version": "0.3.2"
  },
  "kernelspec": {
   "display_name": "Python 3",
   "language": "python",
   "name": "python3"
  },
  "language_info": {
   "codemirror_mode": {
    "name": "ipython",
    "version": 3
   },
   "file_extension": ".py",
   "mimetype": "text/x-python",
   "name": "python",
   "nbconvert_exporter": "python",
   "pygments_lexer": "ipython3",
   "version": "3.7.1"
  }
 },
 "nbformat": 4,
 "nbformat_minor": 1
}
